{
 "cells": [
  {
   "cell_type": "code",
   "execution_count": 1,
   "id": "c86e3c6a-e51a-4be4-ab2d-24a285c57d05",
   "metadata": {},
   "outputs": [],
   "source": [
    "import numpy as np"
   ]
  },
  {
   "cell_type": "markdown",
   "id": "60fecbc4-e161-4f8f-9057-604f8faa5064",
   "metadata": {},
   "source": [
    "# Dot Product of 2 Vectors"
   ]
  },
  {
   "cell_type": "code",
   "execution_count": 3,
   "id": "73317500-032e-46aa-91fc-00a41f00b621",
   "metadata": {},
   "outputs": [
    {
     "name": "stdout",
     "output_type": "stream",
     "text": [
      "20\n"
     ]
    }
   ],
   "source": [
    "a = np.array([2, 3])\n",
    "\n",
    "b = np.array([4, 4])\n",
    "\n",
    "a_dot_b = np.dot(a, b)\n",
    "print(a_dot_b)"
   ]
  },
  {
   "cell_type": "code",
   "execution_count": 4,
   "id": "68f53569-416c-4017-b465-3749a8924e77",
   "metadata": {},
   "outputs": [
    {
     "name": "stdout",
     "output_type": "stream",
     "text": [
      "4980\n"
     ]
    }
   ],
   "source": [
    "c = np.array([40, 20, 35])\n",
    "\n",
    "d = np.array([53, 24, 68])\n",
    "\n",
    "c_dot_d = np.dot(c, d)\n",
    "print(c_dot_d)"
   ]
  },
  {
   "cell_type": "markdown",
   "id": "cba9b1d5-68a8-4e9d-9f2f-ee6bf1638696",
   "metadata": {},
   "source": [
    "# Cross Product of 2 Vectors"
   ]
  },
  {
   "cell_type": "code",
   "execution_count": 5,
   "id": "3c120589-ac0f-49bd-bd6c-ca043c9e333e",
   "metadata": {},
   "outputs": [
    {
     "name": "stdout",
     "output_type": "stream",
     "text": [
      "-4\n"
     ]
    }
   ],
   "source": [
    "a = np.array([2, 3])\n",
    "\n",
    "b = np.array([4, 4])\n",
    "\n",
    "a_cross_b = np.cross(a, b)\n",
    "print(a_cross_b)"
   ]
  },
  {
   "cell_type": "code",
   "execution_count": 6,
   "id": "013e0330-69f0-4598-9bf8-7199ed904615",
   "metadata": {},
   "outputs": [
    {
     "name": "stdout",
     "output_type": "stream",
     "text": [
      "[-140  110  -20]\n"
     ]
    }
   ],
   "source": [
    "c = np.array([5, 10, 20])\n",
    "\n",
    "d = np.array([18, 32, 50])\n",
    "\n",
    "c_cross_d = np.cross(c, d)\n",
    "print(c_cross_d)"
   ]
  },
  {
   "cell_type": "markdown",
   "id": "6ba85cec-bdab-45b8-9c9b-26301532e7e9",
   "metadata": {},
   "source": [
    "# Projection of \"a\" vector on \"v\" vector"
   ]
  },
  {
   "attachments": {
    "bfec860f-9c9a-4476-850e-99c5f050a5ff.PNG": {
     "image/png": "[encoded data removed]"
    }
   },
   "cell_type": "markdown",
   "id": "84c5fe1f-0c28-43dc-9207-a6fd676bdbbe",
   "metadata": {},
   "source": [
    "![vector projection.PNG](attachment:bfec860f-9c9a-4476-850e-99c5f050a5ff.PNG)"
   ]
  },
  {
   "cell_type": "code",
   "execution_count": 8,
   "id": "94455a94-949a-4262-aab4-46a1771dc746",
   "metadata": {},
   "outputs": [
    {
     "name": "stdout",
     "output_type": "stream",
     "text": [
      "Projection of a vector on v vector =  [-1.12  0.84]\n"
     ]
    }
   ],
   "source": [
    "a = np.array([2, 5])\n",
    "\n",
    "v = np.array([8, -6])\n",
    "\n",
    "# magnitude of \"v\" vector\n",
    "magnitude_of_v = np.sqrt(sum(v**2))\n",
    "\n",
    "proj_of_a_on_v = (np.dot(a,v)/magnitude_of_v**2)*v \n",
    "\n",
    "print('Projection of a vector on v vector = ', proj_of_a_on_v)"
   ]
  },
  {
   "cell_type": "code",
   "execution_count": 9,
   "id": "947c3979-fbb8-4eae-9ca4-50f01db0f150",
   "metadata": {},
   "outputs": [
    {
     "name": "stdout",
     "output_type": "stream",
     "text": [
      "Projection of a vector on v vector =  [30.18242937 54.99909352 44.93828373]\n"
     ]
    }
   ],
   "source": [
    "a = np.array([23, 45, 62])\n",
    "\n",
    "v = np.array([45, 82, 67])\n",
    "\n",
    "# magnitude of \"v\" vector\n",
    "magnitude_of_v = np.sqrt(sum(v**2))\n",
    "\n",
    "proj_of_a_on_v = (np.dot(a,v)/magnitude_of_v**2)*v \n",
    "\n",
    "print('Projection of a vector on v vector = ', proj_of_a_on_v)"
   ]
  },
  {
   "cell_type": "code",
   "execution_count": null,
   "id": "cac0e09d-7126-4ca0-a080-10effd332c26",
   "metadata": {},
   "outputs": [],
   "source": []
  },
  {
   "cell_type": "code",
   "execution_count": null,
   "id": "3c6ae678-15d6-41bb-bd7f-42178f5bec00",
   "metadata": {},
   "outputs": [],
   "source": []
  },
  {
   "cell_type": "code",
   "execution_count": null,
   "id": "fc08a35f-7b90-43ed-92d8-96f23bc7ec23",
   "metadata": {},
   "outputs": [],
   "source": []
  },
  {
   "cell_type": "code",
   "execution_count": null,
   "id": "41ca2efa-6638-490a-84d5-6c398f967d55",
   "metadata": {},
   "outputs": [],
   "source": []
  }
 ],
 "metadata": {
  "kernelspec": {
   "display_name": "Python 3 (ipykernel)",
   "language": "python",
   "name": "python3"
  },
  "language_info": {
   "codemirror_mode": {
    "name": "ipython",
    "version": 3
   },
   "file_extension": ".py",
   "mimetype": "text/x-python",
   "name": "python",
   "nbconvert_exporter": "python",
   "pygments_lexer": "ipython3",
   "version": "3.11.7"
  }
 },
 "nbformat": 4,
 "nbformat_minor": 5
}
